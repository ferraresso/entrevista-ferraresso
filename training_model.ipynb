{
 "cells": [
  {
   "cell_type": "code",
   "execution_count": 1,
   "id": "18237fd2",
   "metadata": {},
   "outputs": [
    {
     "name": "stderr",
     "output_type": "stream",
     "text": [
      "C:\\Users\\aferraresso\\anaconda3\\envs\\futbol\\lib\\site-packages\\numpy\\_distributor_init.py:32: UserWarning: loaded more than 1 DLL from .libs:\n",
      "C:\\Users\\aferraresso\\anaconda3\\envs\\futbol\\lib\\site-packages\\numpy\\.libs\\libopenblas.PYQHXLVVQ7VESDPUVUADXEVJOBGHJPAY.gfortran-win_amd64.dll\n",
      "C:\\Users\\aferraresso\\anaconda3\\envs\\futbol\\lib\\site-packages\\numpy\\.libs\\libopenblas.WCDJNK7YVMPZQ2ME2ZZHJJRJ3JIKNDB7.gfortran-win_amd64.dll\n",
      "  stacklevel=1)\n"
     ]
    }
   ],
   "source": [
    "import pandas as pd\n",
    "from sklearn.feature_extraction.text import CountVectorizer,TfidfVectorizer"
   ]
  },
  {
   "cell_type": "markdown",
   "id": "41fa8d7f",
   "metadata": {},
   "source": [
    "Cargamos el dataset y marcamos como tarjet los score \"buena\""
   ]
  },
  {
   "cell_type": "code",
   "execution_count": 2,
   "id": "8b5939f3",
   "metadata": {},
   "outputs": [
    {
     "name": "stdout",
     "output_type": "stream",
     "text": [
      "(812, 4)\n"
     ]
    }
   ],
   "source": [
    "df = pd.read_csv('data/training_data.csv')\n",
    "df['es_buena'] = df.score == 'buena'\n",
    "print(df.shape)"
   ]
  },
  {
   "cell_type": "markdown",
   "id": "bba66f1f",
   "metadata": {},
   "source": [
    "Dividimos entre train y test, manteniendo la proporcion entre buenas y malas."
   ]
  },
  {
   "cell_type": "code",
   "execution_count": 3,
   "id": "fa010ef9",
   "metadata": {},
   "outputs": [
    {
     "name": "stdout",
     "output_type": "stream",
     "text": [
      "(649, 4)\n",
      "(163, 4)\n"
     ]
    }
   ],
   "source": [
    "from sklearn.model_selection import train_test_split\n",
    "\n",
    "train, test = train_test_split(df, test_size=0.2, stratify=df.es_buena)\n",
    "print(train.shape)\n",
    "print(test.shape)"
   ]
  },
  {
   "cell_type": "markdown",
   "id": "6a6d0c4e",
   "metadata": {},
   "source": [
    "Por lo visto en el EDA vamos a ignorar algunas palabras muy usadas en el pre-procesamiento, asi que primero objetenemos los terminos mas usados que no son stopwords"
   ]
  },
  {
   "cell_type": "code",
   "execution_count": 4,
   "id": "9a4091b0",
   "metadata": {},
   "outputs": [],
   "source": [
    "from nltk.corpus import stopwords\n",
    "def get_top_n_words(corpus, n=None):\n",
    "    \"\"\"\n",
    "    List the top n words in a vocabulary according to occurrence in a text corpus.\n",
    "    \"\"\"\n",
    "    vec = CountVectorizer().fit(corpus)\n",
    "    bag_of_words = vec.transform(corpus)\n",
    "    sum_words = bag_of_words.sum(axis=0) \n",
    "    words_freq = [(word, sum_words[0, idx]) for word, idx in     vec.vocabulary_.items()]\n",
    "    words_freq =sorted(words_freq, key = lambda x: x[1], reverse=True)\n",
    "    return words_freq[:n], len(words_freq)\n",
    "\n",
    "freq_words, size = get_top_n_words(train.review)\n",
    "stopwords_set = [c for c in freq_words if c[0] not in list(stopwords.words('spanish'))][:60]"
   ]
  },
  {
   "cell_type": "markdown",
   "id": "58af90be",
   "metadata": {},
   "source": [
    "Instanciamos un NLPCleaner con esas palabras e indicando que haga lematizacion de las palabras. NLPCleaner realiza las siguientes tareas:\n",
    "- Convierte a minusculas\n",
    "- Elimina simbolos raros y tildes\n",
    "- Eliminar stopwords comunes y las especificas que se indican por parametros\n",
    "- Opcionalmente aplica lematizacion a las palabras."
   ]
  },
  {
   "cell_type": "code",
   "execution_count": 5,
   "id": "666d04fc",
   "metadata": {},
   "outputs": [
    {
     "name": "stderr",
     "output_type": "stream",
     "text": [
      "100%|█████████████████████████████████████████████████████████████████████| 497560/497560 [00:00<00:00, 1378785.88it/s]\n"
     ]
    }
   ],
   "source": [
    "from nlp_transformer import NLPCleaner,StringFeatures\n",
    "\n",
    "cleaner = NLPCleaner(stopwords = stopwords_set,\n",
    "                          with_lemma=True)"
   ]
  },
  {
   "cell_type": "markdown",
   "id": "abcc440d",
   "metadata": {},
   "source": [
    "Generamos un Pipeline con el preprocesamiento y el modelo que deseamos entrenar, en este caso LogisticRegression, aunque tambien se probaron BernoulliNB y MultinomialNB. Tambien se evaluo incluir datos como longitud y variedad de terminos, pero no afecto al resultado asi que fueron quitados (es lo que hace la clase StringFeatures)"
   ]
  },
  {
   "cell_type": "code",
   "execution_count": 18,
   "id": "107ad5a0",
   "metadata": {},
   "outputs": [],
   "source": [
    "from sklearn.feature_extraction.text import TfidfVectorizer\n",
    "from sklearn.naive_bayes import BernoulliNB, MultinomialNB\n",
    "from sklearn.linear_model import LogisticRegression\n",
    "from sklearn.pipeline import Pipeline, FeatureUnion\n",
    "from sklearn.feature_extraction.text import TfidfVectorizer\n",
    "\n",
    "\n",
    "pipe = Pipeline([\n",
    "    ('clean', cleaner),\n",
    "#     ('union', FeatureUnion([\n",
    "        ('tfidf', TfidfVectorizer(max_features=2000, \n",
    "                                ngram_range=(1,3))),\n",
    "#         ('string', StringFeatures())\n",
    "#     ])),\n",
    "    ('logistic', LogisticRegression(random_state=0, solver='lbfgs'))\n",
    "#     ('bernoulli', BernoulliNB()),\n",
    "#     ('multinomial', MultinomialNB()),\n",
    "])"
   ]
  },
  {
   "cell_type": "markdown",
   "id": "c218d6c0",
   "metadata": {},
   "source": [
    "Luego entrenamos el modelo con el cojunto train de datos"
   ]
  },
  {
   "cell_type": "code",
   "execution_count": 19,
   "id": "95050848",
   "metadata": {},
   "outputs": [
    {
     "name": "stdout",
     "output_type": "stream",
     "text": [
      "Score: 0.8711656441717791\n"
     ]
    }
   ],
   "source": [
    "pipe.fit(train.review,train.es_buena)\n",
    "print(f'Score: {pipe.score(test.review, test.es_buena)}')"
   ]
  },
  {
   "cell_type": "markdown",
   "id": "ad9afe10",
   "metadata": {},
   "source": [
    "Y evaluamos diferentes metricas y una matriz de confusión, "
   ]
  },
  {
   "cell_type": "code",
   "execution_count": 20,
   "id": "646f7940",
   "metadata": {},
   "outputs": [
    {
     "name": "stdout",
     "output_type": "stream",
     "text": [
      "Precision: 0.853\n",
      "Recall: 0.935\n",
      "F-Score: 0.892\n"
     ]
    },
    {
     "data": {
      "image/png": "[encoded data removed]",
      "text/plain": [
       "<Figure size 432x288 with 2 Axes>"
      ]
     },
     "metadata": {
      "needs_background": "light"
     },
     "output_type": "display_data"
    }
   ],
   "source": [
    "from sklearn.metrics import precision_score, recall_score, f1_score\n",
    "from sklearn.metrics import confusion_matrix\n",
    "from sklearn.metrics import plot_confusion_matrix\n",
    "\n",
    "y_hat = pipe.predict(test.review)\n",
    "print(f'Precision: {precision_score(test.es_buena, y_hat):.{3}f}')\n",
    "print(f'Recall: {recall_score(test.es_buena, y_hat):.{3}f}')\n",
    "print(f'F-Score: {f1_score(test.es_buena, y_hat):.{3}f}')\n",
    "_ = plot_confusion_matrix(pipe, test.review, test.es_buena)"
   ]
  },
  {
   "cell_type": "markdown",
   "id": "2ca68768",
   "metadata": {},
   "source": [
    "Finalmente, guardamos el pipeline completo para poder utilizarlo desde la app de clasificación"
   ]
  },
  {
   "cell_type": "code",
   "execution_count": 21,
   "id": "b619cb2e",
   "metadata": {},
   "outputs": [
    {
     "data": {
      "text/plain": [
       "['pipe.pkl']"
      ]
     },
     "execution_count": 21,
     "metadata": {},
     "output_type": "execute_result"
    }
   ],
   "source": [
    "import joblib\n",
    "\n",
    "joblib.dump(pipe, 'pipe.pkl')"
   ]
  },
  {
   "cell_type": "code",
   "execution_count": null,
   "id": "387814f5",
   "metadata": {},
   "outputs": [],
   "source": []
  }
 ],
 "metadata": {
  "kernelspec": {
   "display_name": "futbol",
   "language": "python",
   "name": "futbol"
  },
  "language_info": {
   "codemirror_mode": {
    "name": "ipython",
    "version": 3
   },
   "file_extension": ".py",
   "mimetype": "text/x-python",
   "name": "python",
   "nbconvert_exporter": "python",
   "pygments_lexer": "ipython3",
   "version": "3.7.7"
  }
 },
 "nbformat": 4,
 "nbformat_minor": 5
}
